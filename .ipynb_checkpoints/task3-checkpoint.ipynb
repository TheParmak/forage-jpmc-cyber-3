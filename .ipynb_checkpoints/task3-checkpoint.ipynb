{
 "cells": [
  {
   "cell_type": "markdown",
   "id": "1df29eda",
   "metadata": {
    "id": "1df29eda"
   },
   "source": [
    "Step 0. Unzip enron1.zip into the current directory."
   ]
  },
  {
   "cell_type": "markdown",
   "id": "bf32cfce",
   "metadata": {
    "id": "bf32cfce"
   },
   "source": [
    "Step 1. Traverse the dataset and create a Pandas dataframe. This is already done for you and should run without any errors. You should recognize Pandas from task 1."
   ]
  },
  {
   "cell_type": "code",
   "execution_count": 34,
   "id": "20c5d195",
   "metadata": {
    "id": "20c5d195"
   },
   "outputs": [
    {
     "name": "stdout",
     "output_type": "stream",
     "text": [
      "skipped 0754.2004-04-01.GP.spam.txt\n",
      "skipped 2526.2004-10-17.GP.spam.txt\n",
      "skipped 3364.2005-01-01.GP.spam.txt\n",
      "skipped 2248.2004-09-23.GP.spam.txt\n",
      "skipped 5105.2005-08-31.GP.spam.txt\n",
      "skipped 1414.2004-06-24.GP.spam.txt\n",
      "skipped 4201.2005-04-05.GP.spam.txt\n",
      "skipped 2698.2004-10-31.GP.spam.txt\n",
      "skipped 2140.2004-09-13.GP.spam.txt\n",
      "skipped 2042.2004-08-30.GP.spam.txt\n",
      "skipped 3304.2004-12-26.GP.spam.txt\n",
      "skipped 4142.2005-03-31.GP.spam.txt\n",
      "skipped 4350.2005-04-23.GP.spam.txt\n",
      "skipped 4566.2005-05-24.GP.spam.txt\n",
      "skipped 2649.2004-10-27.GP.spam.txt\n"
     ]
    }
   ],
   "source": [
    "import pandas as pd\n",
    "import os\n",
    "\n",
    "def read_spam():\n",
    "    category = 'spam'\n",
    "    directory = './enron1/spam'\n",
    "    return read_category(category, directory)\n",
    "\n",
    "def read_ham():\n",
    "    category = 'ham'\n",
    "    directory = './enron1/ham'\n",
    "    return read_category(category, directory)\n",
    "\n",
    "def read_category(category, directory):\n",
    "    emails = []\n",
    "    for filename in os.listdir(directory):\n",
    "        if not filename.endswith(\".txt\"):\n",
    "            continue\n",
    "        with open(os.path.join(directory, filename), 'r') as fp:\n",
    "            try:\n",
    "                content = fp.read()\n",
    "                emails.append({'name': filename, 'content': content, 'category': category})\n",
    "            except:\n",
    "                print(f'skipped {filename}')\n",
    "    return emails\n",
    "\n",
    "ham = read_ham()\n",
    "spam = read_spam()\n",
    "\n",
    "df = pd.DataFrame.from_records(ham)\n",
    "df = df.append(pd.DataFrame.from_records(spam))"
   ]
  },
  {
   "cell_type": "markdown",
   "id": "1a1c23fd",
   "metadata": {
    "id": "1a1c23fd"
   },
   "source": [
    "Step 2. Data cleaning is a critical part of machine learning. You and I can recognize that 'Hello' and 'hello' are the same word but a machine does not know this a priori. Therefore, we can 'help' the machine by conducting such normalization steps for it. Write a function `preprocessor` that takes in a string and replaces all non alphabet characters with a space and then lowercases the result."
   ]
  },
  {
   "cell_type": "code",
   "execution_count": 35,
   "id": "c447c901",
   "metadata": {
    "id": "c447c901"
   },
   "outputs": [],
   "source": [
    "import re\n",
    "\n",
    "def preprocessor(e):\n",
    "    e = re.sub(r'[^a-zA-Z]', ' ', e).lower()\n",
    "    return e"
   ]
  },
  {
   "cell_type": "markdown",
   "id": "ba32521d",
   "metadata": {
    "id": "ba32521d"
   },
   "source": [
    "Step 3. We will now train the machine learning model. All the functions that you will need are imported for you. The instructions explain how the work and hint at which functions to use. You will likely need to refer to the scikit learn documentation to see how exactly to invoke the functions. It will be handy to keep that tab open."
   ]
  },
  {
   "cell_type": "code",
   "execution_count": 66,
   "id": "1442d377",
   "metadata": {
    "id": "1442d377"
   },
   "outputs": [
    {
     "name": "stdout",
     "output_type": "stream",
     "text": [
      "0.9738372093023255\n",
      "              precision    recall  f1-score   support\n",
      "\n",
      "         ham       0.98      0.98      0.98       707\n",
      "        spam       0.95      0.97      0.96       325\n",
      "\n",
      "    accuracy                           0.97      1032\n",
      "   macro avg       0.97      0.97      0.97      1032\n",
      "weighted avg       0.97      0.97      0.97      1032\n",
      "\n"
     ]
    },
    {
     "data": {
      "image/png": "[encoded data removed]",
      "text/plain": [
       "<Figure size 432x288 with 2 Axes>"
      ]
     },
     "metadata": {
      "needs_background": "light"
     },
     "output_type": "display_data"
    }
   ],
   "source": [
    "from sklearn.feature_extraction.text import CountVectorizer\n",
    "from sklearn.model_selection import train_test_split\n",
    "from sklearn.linear_model import LogisticRegression\n",
    "from sklearn.metrics import accuracy_score, confusion_matrix, classification_report\n",
    "import scikitplot\n",
    "\n",
    "# The CountVectorizer converts a text sample into a vector (think of it as an array of floats).\n",
    "# Each entry in the vector corresponds to a single word and the value is the number of times the word appeared.\n",
    "# Instantiate a CountVectorizer. Make sure to include the preprocessor you previously wrote in the constructor.\n",
    "# TODO\n",
    "data = df['content']\n",
    "labels = df['category']\n",
    "\n",
    "vectorizer = CountVectorizer(preprocessor=preprocessor)\n",
    "\n",
    "\n",
    "# Use train_test_split to split the dataset into a train dataset and a test dataset.\n",
    "# The machine learning model learns from the train dataset.\n",
    "# Then the trained model is tested on the test dataset to see if it actually learned anything.\n",
    "# If it just memorized for example, then it would have a low accuracy on the test dataset and a high accuracy on the train dataset.\n",
    "X_train, X_test, y_train, y_test = train_test_split(data, labels, test_size=0.2, random_state=42)\n",
    "\n",
    "\n",
    "\n",
    "# Use the vectorizer to transform the existing dataset into a form in which the model can learn from.\n",
    "# Remember that simple machine learning models operate on numbers, which the CountVectorizer conveniently helped us do.\n",
    "X_train_vectorized = vectorizer.fit_transform(X_train)\n",
    "\n",
    "\n",
    "# Use the LogisticRegression model to fit to the train dataset.\n",
    "# You may remember y = mx + b and Linear Regression from high school. Here, we fitted a scatter plot to a line.\n",
    "# Logistic Regression is another form of regression. \n",
    "# However, Logistic Regression helps us determine if a point should be in category A or B, which is a perfect fit.\n",
    "logreg = LogisticRegression(max_iter = 400)\n",
    "logreg.fit(X_train_vectorized, y_train)\n",
    "\n",
    "\n",
    "# Validate that the model has learned something.\n",
    "# Recall the model operates on vectors. First transform the test set using the vectorizer. \n",
    "# Then generate the predictions.\n",
    "X_test_vectorized = vectorizer.transform(X_test)\n",
    "prediction = logreg.predict(X_test_vectorized)\n",
    "\n",
    "# We now want to see how we have done. We will be using three functions.\n",
    "# `accuracy_score` tells us how well we have done. \n",
    "# 90% means that every 9 of 10 entries from the test dataset were predicted accurately.\n",
    "# The `confusion_matrix` is a 2x2 matrix that gives us more insight.\n",
    "# The top left shows us how many ham emails were predicted to be ham (that's good!).\n",
    "# The bottom right shows us how many spam emails were predicted to be spam (that's good!).\n",
    "# The other two quadrants tell us the misclassifications.\n",
    "# Finally, the `classification_report` gives us detailed statistics which you may have seen in a statistics class.\n",
    "\n",
    "print(accuracy_score(y_test, prediction))\n",
    "#print(confusion_matrix(y_test, prediction, normalize='true'))\n",
    "scikitplot.metrics.plot_confusion_matrix(y_test, prediction, normalize=True)\n",
    "print(classification_report(y_test, prediction))\n",
    "\n"
   ]
  },
  {
   "cell_type": "markdown",
   "id": "9674d032",
   "metadata": {
    "id": "9674d032"
   },
   "source": [
    "Step 4."
   ]
  },
  {
   "cell_type": "code",
   "execution_count": null,
   "id": "710b34bf",
   "metadata": {},
   "outputs": [],
   "source": []
  },
  {
   "cell_type": "code",
   "execution_count": 114,
   "id": "14fdaa67",
   "metadata": {
    "id": "6b7d78c9"
   },
   "outputs": [
    {
     "name": "stdout",
     "output_type": "stream",
     "text": [
      "['aa' 'aaa' 'aabda' ... 'zzn' 'zzocb' 'zzso']\n",
      "[-2.72883698e-01  9.41670427e-05 -9.15632935e-03 ...  1.19458442e-06\n",
      "  3.93131723e-04  7.67752313e-02]\n",
      "\n",
      "Top 10 Positive Feature Importances (SPAM):\n",
      "SPAM: Feature: http, Importance: 1.041851141290058\n",
      "SPAM: Feature: prices, Importance: 0.8602334547049076\n",
      "SPAM: Feature: no, Importance: 0.7909428190849007\n",
      "SPAM: Feature: hello, Importance: 0.762771389058248\n",
      "SPAM: Feature: more, Importance: 0.7504825629048126\n",
      "SPAM: Feature: removed, Importance: 0.7233775761484039\n",
      "SPAM: Feature: only, Importance: 0.7037049483139011\n",
      "SPAM: Feature: pain, Importance: 0.6650347848357034\n",
      "SPAM: Feature: remove, Importance: 0.6648427035005107\n",
      "SPAM: Feature: paliourg, Importance: 0.6630311605599518\n",
      "\n",
      "Top 10 Negative Feature Importances (HAM):\n",
      "HAM: Feature: daren, Importance: -1.5362039005804096\n",
      "HAM: Feature: enron, Importance: -1.5320565421039942\n",
      "HAM: Feature: attached, Importance: -1.4833753264443335\n",
      "HAM: Feature: doc, Importance: -1.3783587472921806\n",
      "HAM: Feature: pictures, Importance: -1.2592961056752516\n",
      "HAM: Feature: thanks, Importance: -1.2357243419356072\n",
      "HAM: Feature: xls, Importance: -1.1760760401157921\n",
      "HAM: Feature: neon, Importance: -1.1487393551540555\n",
      "HAM: Feature: hpl, Importance: -1.1060705550519745\n",
      "HAM: Feature: meter, Importance: -1.028786005276059\n"
     ]
    }
   ],
   "source": [
    "## Let's see which features (aka columns) the vectorizer created. \n",
    "# They should be all the words that were contained in the training dataset.\n",
    "feature_names = vectorizer.get_feature_names_out()\n",
    "print(feature_names)\n",
    "\n",
    "# You may be wondering what a machine learning model is tangibly. It is just a collection of numbers. \n",
    "# You can access these numbers known as \"coefficients\" from the coef_ property of the model\n",
    "# We will be looking at coef_[0] which represents the importance of each feature.\n",
    "# What does importance mean in this context?\n",
    "# Some words are more important than others for the model.\n",
    "# It's nothing personal, just that spam emails tend to contain some words more frequently.\n",
    "# This indicates to the model that having that word would make a new email more likely to be spam.\n",
    "coef = logreg.coef_[0]\n",
    "print(coef)\n",
    "\n",
    "\n",
    "# Iterate over importance and find the top 10 positive features with the largest magnitude.\n",
    "# Similarly, find the top 10 negative features with the largest magnitude.\n",
    "# Positive features correspond to spam. Negative features correspond to ham.\n",
    "# You will see that `http` is the strongest feature that corresponds to spam emails. \n",
    "# It makes sense. Spam emails often want you to click on a link.\n",
    "importances = logreg.coef_[0]\n",
    "feature_importances = zip(importances, feature_names)\n",
    "\n",
    "fsort = sorted(feature_importances, reverse=True)\n",
    "\n",
    "print(\"\\nTop 10 Positive Feature Importances (SPAM):\")\n",
    "for importance, feature_name in fsort[:10]:\n",
    "    print(f\"SPAM: Feature: {feature_name}, Importance: {importance}\")\n",
    "\n",
    "\n",
    "print(\"\\nTop 10 Negative Feature Importances (HAM):\")\n",
    "for importance, feature_name in reversed(fsort[-10:]):\n",
    "    print(f\"HAM: Feature: {feature_name}, Importance: {importance}\")\n"
   ]
  },
  {
   "cell_type": "markdown",
   "id": "d267e7ad",
   "metadata": {
    "id": "d267e7ad"
   },
   "source": [
    "Submission\n",
    "1. Upload the jupyter notebook to Forage."
   ]
  },
  {
   "cell_type": "markdown",
   "id": "LI4u_ZUGToDQ",
   "metadata": {
    "id": "LI4u_ZUGToDQ"
   },
   "source": [
    "All Done!"
   ]
  }
 ],
 "metadata": {
  "colab": {
   "collapsed_sections": [],
   "name": "task3.ipynb",
   "provenance": []
  },
  "kernelspec": {
   "display_name": "Python 3 (ipykernel)",
   "language": "python",
   "name": "python3"
  },
  "language_info": {
   "codemirror_mode": {
    "name": "ipython",
    "version": 3
   },
   "file_extension": ".py",
   "mimetype": "text/x-python",
   "name": "python",
   "nbconvert_exporter": "python",
   "pygments_lexer": "ipython3",
   "version": "3.9.12"
  }
 },
 "nbformat": 4,
 "nbformat_minor": 5
}
